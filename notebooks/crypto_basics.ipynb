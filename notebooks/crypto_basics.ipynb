{
 "cells": [
  {
   "cell_type": "markdown",
   "metadata": {},
   "source": [
    "# Cryptography Basics\n",
    "\n",
    "This notebook demonstrates the basics of cryptography using Python's cryptography library alongside OpenSSL commands.\n",
    "\n",
    "We'll cover:\n",
    "1. PKI (Public Key Infrastructure)\n",
    "2. Key Pairs\n",
    "3. Certificate Signing Requests (CSR)\n",
    "4. X.509 Certificates\n",
    "\n",
    "First, let's install and import required packages:"
   ]
  },
  {
   "cell_type": "code",
   "execution_count": null,
   "metadata": {},
   "outputs": [],
   "source": [
    "%pip install cryptography"
   ]
  },
  {
   "cell_type": "code",
   "execution_count": 5,
   "metadata": {},
   "outputs": [],
   "source": [
    "import os\n",
    "from cryptography import x509\n",
    "from cryptography.hazmat.primitives import hashes\n",
    "from cryptography.hazmat.primitives.asymmetric import ec\n",
    "from cryptography.hazmat.backends import default_backend\n",
    "from cryptography.x509.oid import NameOID\n",
    "from cryptography.hazmat.primitives import serialization\n",
    "from datetime import datetime, timedelta"
   ]
  },
  {
   "cell_type": "markdown",
   "metadata": {},
   "source": [
    "Lets have some code which loads the key, csr, and certificate.\n"
   ]
  },
  {
   "cell_type": "code",
   "execution_count": 6,
   "metadata": {},
   "outputs": [],
   "source": [
    "def load_cert(cert: bytes) -> x509.Certificate:\n",
    "    try:\n",
    "        return x509.load_pem_x509_certificate(cert)\n",
    "    except:\n",
    "        pass  # fall back to DER\n",
    "\n",
    "    return x509.load_der_x509_certificate(cert)\n",
    "\n",
    "def load_key(key: bytes):\n",
    "    try:\n",
    "        return serialization.load_pem_private_key(key, password=None)\n",
    "    except:\n",
    "        pass  # fall back to DER\n",
    "\n",
    "    return serialization.load_der_private_key(key, password=None)\n",
    "\n",
    "def load_csr(csr: bytes) -> x509.CertificateSigningRequest:\n",
    "    try:\n",
    "        return x509.load_pem_x509_csr(csr)\n",
    "    except:\n",
    "        pass  # fall back to DER\n",
    "\n",
    "    return x509.load_der_x509_csr(csr)\n",
    "\n",
    "def load_crl(crl: bytes) -> x509.CertificateRevocationList:\n",
    "    try:\n",
    "        return x509.load_pem_x509_crl(crl)\n",
    "    except:\n",
    "        pass  # fall back to DER\n",
    "\n",
    "    return x509.load_der_x509_crl(crl)"
   ]
  },
  {
   "cell_type": "markdown",
   "metadata": {},
   "source": [
    "#### Key Pair Generation\n",
    "\n",
    "A key pair consists of a public key and a private key. The private key must be kept secret while the public key can be freely shared."
   ]
  },
  {
   "cell_type": "code",
   "execution_count": 7,
   "metadata": {},
   "outputs": [],
   "source": [
    "def generate_ec_secp256r1_keypair() -> bytes:\n",
    "    private_key = ec.generate_private_key(ec.SECP256R1(), default_backend())\n",
    "    return private_key.private_bytes(\n",
    "        encoding=serialization.Encoding.PEM,\n",
    "        format=serialization.PrivateFormat.PKCS8,\n",
    "        encryption_algorithm=serialization.NoEncryption(),\n",
    "    )\n",
    "\n",
    "keypair = generate_ec_secp256r1_keypair()\n",
    "\n",
    "with open('keypair.pem', 'wb') as f:\n",
    "    f.write(keypair)"
   ]
  },
  {
   "cell_type": "markdown",
   "metadata": {},
   "source": [
    "#### Certificate Signing Request (CSR)\n",
    "\n",
    "A CSR is a message sent from an applicant to a CA to apply for a digital certificate."
   ]
  },
  {
   "cell_type": "code",
   "execution_count": 8,
   "metadata": {},
   "outputs": [],
   "source": [
    "def generate_csr(keypair: bytes, cn: str) -> bytes:\n",
    "\n",
    "    builder = x509.CertificateSigningRequestBuilder()\n",
    "    subject = x509.Name([x509.NameAttribute(NameOID.COMMON_NAME, cn)])\n",
    "    builder = builder.subject_name(subject)\n",
    "\n",
    "    keypair_obj = load_key(keypair)\n",
    "    csr = builder.sign(keypair_obj, hashes.SHA256())\n",
    "\n",
    "    return csr.public_bytes(serialization.Encoding.PEM)\n",
    "\n",
    "csr = generate_csr(keypair, 'leaf cert')\n",
    "\n",
    "with open('csr.pem', 'wb') as f:\n",
    "    f.write(csr)"
   ]
  },
  {
   "cell_type": "markdown",
   "metadata": {},
   "source": [
    "#### Self-Signed Certificate (Root CA)\n",
    "\n",
    "Let's create a self-signed certificate that can act as a root CA:"
   ]
  },
  {
   "cell_type": "code",
   "execution_count": null,
   "metadata": {},
   "outputs": [],
   "source": [
    "def generate_self_signed_cert(keypair: bytes, cn: str) -> bytes:\n",
    "    keypair_obj = load_key(keypair)\n",
    "    subject = issuer = x509.Name([x509.NameAttribute(NameOID.COMMON_NAME, cn)])\n",
    "\n",
    "    cert = x509.CertificateBuilder()\n",
    "    cert = cert.subject_name(subject)\n",
    "    cert = cert.issuer_name(issuer)\n",
    "    cert = cert.public_key(keypair_obj.public_key())\n",
    "    cert = cert.serial_number(x509.random_serial_number())\n",
    "    cert = cert.not_valid_before(datetime.utcnow())\n",
    "    cert = cert.not_valid_after(datetime.utcnow() + timedelta(days=365)) # a year long validity\n",
    "\n",
    "    cert = cert.add_extension(x509.BasicConstraints(ca=True, path_length=None), critical=True)\n",
    "    cert = cert.add_extension(x509.SubjectKeyIdentifier.from_public_key(keypair_obj.public_key()), critical=False)\n",
    "    cert = cert.add_extension(x509.AuthorityKeyIdentifier.from_issuer_public_key(keypair_obj.public_key()), critical=False)\n",
    "    cert = cert.add_extension(x509.KeyUsage(digital_signature=True, content_commitment=False,\n",
    "                                            key_encipherment=False, data_encipherment=False,\n",
    "                                            key_agreement=False, key_cert_sign=True, crl_sign=True,\n",
    "                                            encipher_only=False, decipher_only=False), critical=True)\n",
    "    \n",
    "    cert = cert.sign(keypair_obj, hashes.SHA256())\n",
    "\n",
    "    return cert.public_bytes(serialization.Encoding.PEM)\n",
    "\n",
    "ca_key = generate_ec_secp256r1_keypair()\n",
    "ca_cert = generate_self_signed_cert(ca_key, \"I'm G-root\")\n",
    "\n",
    "with open('ca_cert.pem', 'wb') as f:\n",
    "    f.write(ca_cert)\n",
    "\n",
    "with open('ca_key.pem', 'wb') as f:\n",
    "    f.write(ca_key)"
   ]
  },
  {
   "cell_type": "markdown",
   "metadata": {},
   "source": [
    "#### Issue a Certificate"
   ]
  },
  {
   "cell_type": "code",
   "execution_count": null,
   "metadata": {},
   "outputs": [],
   "source": [
    "def issue_certificate(ca_cert: bytes, ca_key: bytes, csr: bytes, days=365):\n",
    "    keypair_obj = load_key(ca_key)\n",
    "    ca_cert_obj = load_cert(ca_cert)\n",
    "    csr_obj = load_csr(csr)\n",
    "\n",
    "    cert = x509.CertificateBuilder()\n",
    "    cert = cert.subject_name(csr_obj.subject)\n",
    "    cert = cert.issuer_name(ca_cert_obj.subject)\n",
    "    cert = cert.public_key(csr_obj.public_key())\n",
    "    cert = cert.serial_number(x509.random_serial_number())\n",
    "    cert = cert.not_valid_before(datetime.utcnow())\n",
    "    cert = cert.not_valid_after(datetime.utcnow() + timedelta(days=days))\n",
    "\n",
    "    cert = cert.add_extension(x509.BasicConstraints(ca=False, path_length=None), critical=True)\n",
    "    cert = cert.add_extension(x509.SubjectKeyIdentifier.from_public_key(csr_obj.public_key()), critical=False)\n",
    "    cert = cert.add_extension(x509.AuthorityKeyIdentifier.from_issuer_public_key(ca_cert_obj.public_key()), critical=False)\n",
    "    cert = cert.add_extension(x509.KeyUsage(digital_signature=True, content_commitment=False,\n",
    "                                            key_encipherment=False, data_encipherment=False,\n",
    "                                            key_agreement=False, key_cert_sign=False, crl_sign=False,\n",
    "                                            encipher_only=False, decipher_only=False), critical=True)\n",
    "    cert = cert.sign(keypair_obj, hashes.SHA256())\n",
    "\n",
    "    return cert.public_bytes(serialization.Encoding.PEM)\n",
    "\n",
    "leaf_cert = issue_certificate(ca_cert, ca_key, csr)\n",
    "\n",
    "with open('leaf_cert.pem', 'wb') as f:\n",
    "    f.write(leaf_cert)"
   ]
  },
  {
   "cell_type": "markdown",
   "metadata": {},
   "source": [
    "#### Verify Certificate Chain\n",
    "\n",
    "Let's verify that our leaf certificate was indeed signed by our CA:"
   ]
  },
  {
   "cell_type": "code",
   "execution_count": null,
   "metadata": {},
   "outputs": [],
   "source": [
    "def verify_cert_chain(cert, ca_cert):\n",
    "    cert_obj = load_cert(cert)\n",
    "    ca_cert_obj = load_cert(ca_cert)\n",
    "\n",
    "    cert_akid = cert_obj.extensions.get_extension_for_oid(x509.OID_AUTHORITY_KEY_IDENTIFIER).value.key_identifier\n",
    "    root_skid = ca_cert_obj.extensions.get_extension_for_oid(x509.OID_SUBJECT_KEY_IDENTIFIER).value.key_identifier\n",
    "    if cert_akid is None or root_skid is None or cert_akid != root_skid:\n",
    "        return False\n",
    "\n",
    "    if cert_obj.issuer != ca_cert_obj.subject:\n",
    "        return False\n",
    "\n",
    "    try:\n",
    "        ca_cert_obj.public_key().verify(cert_obj.signature, cert_obj.tbs_certificate_bytes, ec.ECDSA(cert_obj.signature_hash_algorithm))\n",
    "    except Exception as e:\n",
    "        print(e)\n",
    "        print(f\"Signature verification failed for cert subject: {cert_obj.subject}, issuer: {ca_cert_obj.subject}\")\n",
    "        return False\n",
    "\n",
    "    return True\n",
    "\n",
    "verify_cert_chain(leaf_cert, ca_cert)"
   ]
  }
 ],
 "metadata": {
  "kernelspec": {
   "display_name": "Python 3 (ipykernel)",
   "language": "python",
   "name": "python3"
  },
  "language_info": {
   "codemirror_mode": {
    "name": "ipython",
    "version": 3
   },
   "file_extension": ".py",
   "mimetype": "text/x-python",
   "name": "python",
   "nbconvert_exporter": "python",
   "pygments_lexer": "ipython3",
   "version": "3.13.1"
  }
 },
 "nbformat": 4,
 "nbformat_minor": 4
}
